{
 "cells": [
  {
   "cell_type": "code",
   "execution_count": null,
   "metadata": {
    "slideshow": {
     "slide_type": "skip"
    }
   },
   "outputs": [],
   "source": [
    "%%HTML\n",
    "<style>\n",
    ".rendered_html table, .rendered_html th, .rendered_html tr, .rendered_html td {\n",
    "     font-size: 95%;\n",
    "}\n",
    "</style>"
   ]
  },
  {
   "cell_type": "markdown",
   "metadata": {
    "slideshow": {
     "slide_type": "slide"
    }
   },
   "source": [
    "# Interactive Data Viz \n",
    "## With Jupyter & Python\n",
    "\n",
    "\n",
    "#### Join me live in this notebook via Binder:   \n",
    "➡️ [https://bit.ly/2MEFBRN](https://bit.ly/2MEFBRN)\n",
    "\n",
    "<p>👋 Jes Simkin\n",
    " \n",
    "<img src='https://emojis.slackmojis.com/emojis/images/1450822151/257/github.png?1450822151' width=25 align='left'/> &nbsp;&nbsp; @jessimk  \n",
    "\n",
    "<img src='https://emojis.slackmojis.com/emojis/images/1450733056/231/twitter.png?1450733056' width=25 align='left'/> &nbsp;&nbsp; @ _jes5\n",
    "</p>\n"
   ]
  },
  {
   "cell_type": "code",
   "execution_count": null,
   "metadata": {
    "slideshow": {
     "slide_type": "slide"
    }
   },
   "outputs": [],
   "source": [
    "# Loading packages\n",
    "\n",
    "#!pip install pandas\n",
    "import pandas as pd\n",
    "\n",
    "#!pip install matplotlib\n",
    "import matplotlib.pyplot as plt\n",
    "plt.rcParams['figure.figsize'] = [30, 15]\n",
    "%matplotlib inline\n",
    "\n",
    "#!pip install seaborn\n",
    "import seaborn as sns\n",
    "\n",
    "#!pip install plotly_express\n",
    "import plotly.express as px\n",
    "\n",
    "#!pip install folium\n",
    "import folium\n",
    "from folium.plugins import MarkerCluster, FeatureGroupSubGroup"
   ]
  },
  {
   "cell_type": "markdown",
   "metadata": {
    "slideshow": {
     "slide_type": "slide"
    }
   },
   "source": [
    "# 🤞 What I hope you'll leave today with:\n",
    "\n",
    "- Intro to interactive data viz with Jupyter & Python!\n",
    "- Code to get you started with interactive plots in Jupyter!\n",
    "- Two packages for today: Plotly Express & Folium!\n",
    "- Two words for today: layers & context!\n"
   ]
  },
  {
   "cell_type": "markdown",
   "metadata": {
    "slideshow": {
     "slide_type": "slide"
    }
   },
   "source": [
    "# 🚲 Mobi Bike Share Data\n",
    "\n",
    "## June 2018 Trips\n",
    "- Vancouver's public bike share system!  \n",
    "\n",
    "\n",
    "- [Data subset for today lives here](https://raw.githubusercontent.com/jessimk/interactive_data_viz/master/mobi_data_presentation_subset.csv)      \n",
    "    \n",
    "- original data from Mobi lives here:\n",
    "    - https://www.mobibikes.ca/en/system-data"
   ]
  },
  {
   "cell_type": "code",
   "execution_count": null,
   "metadata": {
    "scrolled": true,
    "slideshow": {
     "slide_type": "slide"
    }
   },
   "outputs": [],
   "source": [
    "#loading our data in a pandas dataframe\n",
    "departures = pd.read_csv('mobi_data_presentation_subset.csv', index_col=[0])\n",
    "\n",
    "print(\"Number of rows:\", departures.shape[0])\n",
    "\n",
    "departures.head(5)"
   ]
  },
  {
   "cell_type": "markdown",
   "metadata": {
    "slideshow": {
     "slide_type": "slide"
    }
   },
   "source": [
    "# Questions to explore: \n",
    "### How are June 2018 trips distributed across Vancouver?\n",
    "### Can we learn anything about peak departure by station hours across the city?"
   ]
  },
  {
   "cell_type": "markdown",
   "metadata": {
    "slideshow": {
     "slide_type": "slide"
    }
   },
   "source": [
    "\n",
    "# ✨ Why add interactivity to your data viz?"
   ]
  },
  {
   "cell_type": "markdown",
   "metadata": {
    "slideshow": {
     "slide_type": "slide"
    }
   },
   "source": [
    "### ✨ Why add interactivity to your data viz?  \n",
    "\n",
    "Same data. Same Jupyter notebook. \n",
    "\n",
    "Different levels of context.  \n",
    "\n",
    "Different possibilities for engagement & communication.\n",
    "\n",
    "Different options to avoid overplotting.\n",
    "\n",
    "<img src=\"staticawesome.png\" align = left width=375 ></img>  <img src=\"interactive_awesome.gif\" align = right width=400></img>"
   ]
  },
  {
   "cell_type": "code",
   "execution_count": null,
   "metadata": {
    "slideshow": {
     "slide_type": "slide"
    }
   },
   "outputs": [],
   "source": [
    "#plotting mobi data with a scatter plot\n",
    "plt.scatter(x=departures.longitude, y=departures.latitude,\n",
    "            c=departures.dept_station_peak_hour, cmap=\"inferno\")\n",
    "plt.colorbar(label=\"peak_hour_by_station\")\n",
    "plt.xlabel('Longitude')\n",
    "plt.ylabel('Latitude')\n",
    "plt.title('Mobi Trip Departures (June 2018)')"
   ]
  },
  {
   "cell_type": "code",
   "execution_count": null,
   "metadata": {
    "scrolled": false,
    "slideshow": {
     "slide_type": "slide"
    }
   },
   "outputs": [],
   "source": [
    "#Plotting a hexbin plot with marginal distributions \n",
    "sns.jointplot(x=departures.longitude, \n",
    "              y=departures.latitude, \n",
    "              kind=\"hex\", gridsize=20)"
   ]
  },
  {
   "cell_type": "markdown",
   "metadata": {
    "slideshow": {
     "slide_type": "fragment"
    }
   },
   "source": [
    "We're still missing a lot of info. Does this look like Vancouver?"
   ]
  },
  {
   "cell_type": "markdown",
   "metadata": {
    "slideshow": {
     "slide_type": "slide"
    }
   },
   "source": [
    "# Adding interactive context\n",
    "\n",
    "# Layers. Layers. Layers. \n",
    "###### (code + data)"
   ]
  },
  {
   "cell_type": "markdown",
   "metadata": {
    "slideshow": {
     "slide_type": "slide"
    }
   },
   "source": [
    "## General Plotly Express function structure:\n",
    "\n",
    "- plot type: \n",
    "    - scatter(), bar(), line(), histogram()\n",
    "- pandas dataframe\n",
    "- x,y\n",
    "- color, size, symbol\n",
    "- interactive text\n",
    "\n",
    "and much more...\n",
    "\n",
    "Source: [Plotly Express Documentation](https://www.plotly.express/plotly_express/)"
   ]
  },
  {
   "cell_type": "code",
   "execution_count": null,
   "metadata": {
    "scrolled": false,
    "slideshow": {
     "slide_type": "slide"
    }
   },
   "outputs": [],
   "source": [
    "#Interactive plot with 1 function call\n",
    "#Scatterplot with marginal distributions\n",
    "fig = px.scatter(departures, x=\"longitude\", y=\"latitude\", opacity=0.009,\n",
    "                 #adding station name\n",
    "                 hover_name=\"departure_station\",\n",
    "                 #adding marginal distributions\n",
    "                 marginal_x='histogram',marginal_y='histogram')\n",
    "\n",
    "fig.update_layout(title_font_size=18,\n",
    "    title_text=\"Mobi Bike Trips (June 2018)\") #adding a title\n",
    "fig.show()\n",
    "#Try zooming, panning, selecting, saving!"
   ]
  },
  {
   "cell_type": "markdown",
   "metadata": {
    "slideshow": {
     "slide_type": "slide"
    }
   },
   "source": [
    "But we're still missing some geospatial context. \n",
    "\n",
    "What about streets and neighbourhoods? ...\n",
    "\n",
    "#### Let's add map tiles to our geospatial data viz 🗺️\n",
    "\n",
    "### What are map tiles? \n",
    "\n",
    "__Map tiles make up the background we'll add to our plot to give our  viz geospatial context! 🗺️__"
   ]
  },
  {
   "cell_type": "markdown",
   "metadata": {
    "slideshow": {
     "slide_type": "slide"
    }
   },
   "source": [
    "## What are map tiles? \n",
    "Some things to know about map tiles sets:\n",
    "- Options include free to use, open-source, and paid licenses\n",
    "- Check usage policies and cite your tile set\n",
    "    - Plotly Express & Folium build map tile citations into plots ✓ \n",
    "    \n",
    "We'll use these free tile sets:\n",
    "- __'open-street-map'__ from [OpenStreetMap](https://www.openstreetmap.org/)\n",
    "- __'stamen-toner'__ from [Stamen](https://maps.stamen.com/)  \n",
    "  \n",
    "Read more about map tiles [here.](https://wiki.openstreetmap.org/wiki/Tiles)"
   ]
  },
  {
   "cell_type": "code",
   "execution_count": null,
   "metadata": {
    "slideshow": {
     "slide_type": "slide"
    }
   },
   "outputs": [],
   "source": [
    "#Plotting a scatterplot on a set of map tiles\n",
    "\n",
    "#use scatter_mapbox() instead of scatter()\n",
    "fig = px.scatter_mapbox(\n",
    "    departures, lon=\"longitude\", lat=\"latitude\",\n",
    "    color=\"dept_station_peak_hour\", #colour by peak hour\n",
    "    color_continuous_scale=px.colors.cyclical.IceFire, #colour palette\n",
    "    zoom = 12, #starting zoom\n",
    "    hover_name=\"departure_station\" #Hover tooltip title\n",
    ")\n",
    "fig.update_layout(mapbox_style=\"stamen-toner\") #map tiles\n",
    "# fig.update_layout(mapbox_style=\"open-street-map\") or try this one\n",
    "fig.show()"
   ]
  },
  {
   "cell_type": "markdown",
   "metadata": {
    "slideshow": {
     "slide_type": "slide"
    }
   },
   "source": [
    "# General Folium Structure\n",
    "\n",
    "- __build a base map:__ lat & lon center, initial zoom, tiles\n",
    "- __add layers!__\n",
    "    - 📍 markers or groups of markers\n",
    "    - map tiles\n",
    "    - annotations\n",
    "    - and more!\n",
    "    \n",
    "Disclaimer: We'll subset our data and only plot a sample of 800 trips as Folium has some bugs reported with displaying many markers in [Chrome browsers](https://github.com/python-visualization/folium/issues/812).   \n",
    "  \n",
    "Other options with Folium and large marker sets include saving an interactive map to html."
   ]
  },
  {
   "cell_type": "code",
   "execution_count": null,
   "metadata": {
    "slideshow": {
     "slide_type": "slide"
    }
   },
   "outputs": [],
   "source": [
    "#initializing a base map\n",
    "\n",
    "#default tiles are open street map tiles\n",
    "m = folium.Map(location=[49.275, -123.11], #lat & lon to center map\n",
    "               zoom_start=13)              #initial zoom\n",
    "\n",
    "#display the map in jupyter\n",
    "m"
   ]
  },
  {
   "cell_type": "code",
   "execution_count": null,
   "metadata": {
    "slideshow": {
     "slide_type": "slide"
    }
   },
   "outputs": [],
   "source": [
    "# creating a base map object\n",
    "m = folium.Map(location=[49.275, -123.11], #lat & lon to center map\n",
    "               zoom_start=13)              #initial zoom\n",
    "\n",
    "#looping over rows and creating markers\n",
    "#also subsetting our data to 1.5k trips\n",
    "for trip in departures.sample(800).iterrows():\n",
    "    \n",
    "    #adding peak hour colour \n",
    "    if trip[1]['dept_station_peak_hour'] >= 12:\n",
    "        peak_hour_colour = 'blue'\n",
    "    else:\n",
    "        peak_hour_colour = 'orange'\n",
    "        \n",
    "    #setting the variables we want to include in our marker\n",
    "    coord = (trip[1]['latitude'],trip[1]['longitude'])\n",
    "    station_name = trip[1]['departure_station']\n",
    "    peak_hr = str(trip[1]['dept_station_peak_hour'])\n",
    "    \n",
    "    #creating a marker object with coordinates & pop-up text info\n",
    "    folium.Marker(\n",
    "        coord, \n",
    "        popup= \"Station: \"+station_name+\" , Peak Departure Hour: \"+peak_hr,\n",
    "        icon=folium.Icon(\n",
    "            color=peak_hour_colour,\n",
    "            icon='bicycle', prefix='fa') #bike icon from font awesome library\n",
    "        \n",
    "    ).add_to(m) #and saving the marker to the map `m`\n",
    "        \n",
    "#displaying map in jupyter\n",
    "m"
   ]
  },
  {
   "cell_type": "markdown",
   "metadata": {
    "slideshow": {
     "slide_type": "slide"
    }
   },
   "source": [
    "Uh oh! Overplotting :(\n",
    "\n",
    "Let's gather markers together into clusters to avoid overplotting.\n",
    "\n",
    " `base map`  \n",
    "\n",
    "    `↖ marker clustering layer`  \n",
    "    \n",
    "        `↖ groups of markers`\n",
    "        \n",
    "            `↖ individual markers`\n"
   ]
  },
  {
   "cell_type": "code",
   "execution_count": null,
   "metadata": {
    "slideshow": {
     "slide_type": "slide"
    }
   },
   "outputs": [],
   "source": [
    "#subsetting data & splitting into AM & PM groups\n",
    "subset_df = departures.sample(800)\n",
    "\n",
    "#initializing base map\n",
    "m = folium.Map(location=[49.275, -123.11], zoom_start=13)\n",
    "\n",
    "#adding marker clusters objects to the map\n",
    "mc = MarkerCluster(name='Base Layer', control=False)\n",
    "m.add_child(mc)\n",
    "\n",
    "#creating groups for markers so they can be toggled on/off.\n",
    "#adding these groups to the marker cluster layer\n",
    "\n",
    "Afternoon_Evening = FeatureGroupSubGroup(mc, 'Afternoon & Evening Departures', show=True)\n",
    "m.add_child(Afternoon_Evening)\n",
    "\n",
    "Morning = FeatureGroupSubGroup(mc, 'Morning Departures', show=True)\n",
    "m.add_child(Morning)\n",
    "\n",
    "Morning_df = subset_df.query(\"dept_station_peak_hour <= 12\")\n",
    "Afternoon_Evening_df = subset_df.query(\"dept_station_peak_hour > 12\")"
   ]
  },
  {
   "cell_type": "code",
   "execution_count": null,
   "metadata": {
    "slideshow": {
     "slide_type": "slide"
    }
   },
   "outputs": [],
   "source": [
    "# creating markers for morning trips\n",
    "for trip in Morning_df.iterrows():\n",
    "        \n",
    "    #setting the variables we want to include in our marker\n",
    "    coord = (trip[1]['latitude'],trip[1]['longitude'])\n",
    "    station_name = trip[1]['departure_station']\n",
    "    peak_hr = str(trip[1]['dept_station_peak_hour'])\n",
    "    \n",
    "    #creating a marker object with coordinates & pop-up text info\n",
    "    folium.Marker(\n",
    "        coord, \n",
    "        popup= \"Station: \"+station_name+\" , Peak Departure Hour: \"+peak_hr,\n",
    "        icon=folium.Icon(\n",
    "            icon='bicycle', prefix='fa') #bike icon from font awesome library\n",
    "        \n",
    "    ).add_to(Morning) #and saving the marker to the `morning` group\n",
    "    \n",
    "# creating markers for afternoon and evening trips\n",
    "for trip in Afternoon_Evening_df.iterrows():\n",
    "        \n",
    "    #setting the variables we want to include in our marker\n",
    "    coord = (trip[1]['latitude'],trip[1]['longitude'])\n",
    "    station_name = trip[1]['departure_station']\n",
    "    peak_hr = str(trip[1]['dept_station_peak_hour'])\n",
    "    \n",
    "    #creating a marker object with coordinates & pop-up text info\n",
    "    folium.Marker(\n",
    "        coord, \n",
    "        popup= \"Station: \"+station_name+\" , Peak Departure Hour: \"+peak_hr,\n",
    "        icon=folium.Icon(\n",
    "            icon='bicycle', prefix='fa') #bike icon from font awesome library\n",
    "        \n",
    "    ).add_to(Afternoon_Evening) #and saving the marker to the `afternoon & evening` group"
   ]
  },
  {
   "cell_type": "code",
   "execution_count": null,
   "metadata": {
    "slideshow": {
     "slide_type": "slide"
    }
   },
   "outputs": [],
   "source": [
    "#Grand Finale\n",
    "#adding tile layer options\n",
    "folium.TileLayer('OpenStreetMap').add_to(m)\n",
    "folium.TileLayer('Stamen Toner').add_to(m)\n",
    "\n",
    "# adding a sidebar menu to toggle layers on and off\n",
    "folium.LayerControl().add_to(m)\n",
    "\n",
    "m #displaying the map"
   ]
  },
  {
   "cell_type": "markdown",
   "metadata": {
    "slideshow": {
     "slide_type": "slide"
    }
   },
   "source": [
    "## Summary\n",
    "\n",
    "- Jupyter is set up well for interactive data viz\n",
    "- Interactive features can help layer data + add (geospatial) context\n",
    "- Plotly Express and Folium are some of many options\n",
    "- Interactive features are within reach!"
   ]
  },
  {
   "cell_type": "markdown",
   "metadata": {
    "slideshow": {
     "slide_type": "slide"
    }
   },
   "source": [
    "\n",
    "## Land Acknowledgement\n",
    "I spoke about geospatial context and geospatial data so I also need to acknowledge that my work explores and takes place on the unceded lands of the Musqueam, Squamish, and Tsleil-Waututh nations. \n",
    "\n",
    "## Thank Yous\n",
    "- [Tiffany Timbers](https://github.com/ttimbers), [Reka Solymosi](https://github.com/maczokni) for recommending Binder & other advice!\n",
    "\n",
    "- [Patrick Walls](https://github.com/patrickwalls) for organizing JupyterDay 2019!\n",
    "\n",
    "## Questions?\n",
    "<p>👋 Jes Simkin\n",
    " \n",
    "<img src='https://emojis.slackmojis.com/emojis/images/1450822151/257/github.png?1450822151' width=25 align='left'/> &nbsp;&nbsp; @jessimk  \n",
    "\n",
    "<img src='https://emojis.slackmojis.com/emojis/images/1450733056/231/twitter.png?1450733056' width=25 align='left'/> &nbsp;&nbsp; @ _jes5\n",
    "</p>"
   ]
  },
  {
   "cell_type": "markdown",
   "metadata": {
    "slideshow": {
     "slide_type": "slide"
    }
   },
   "source": [
    "## Further Readings & Resources\n",
    "\n",
    "[Plotly Express Launch Blog](https://medium.com/plotly/introducing-plotly-express-808df010143d)\n",
    "\n",
    "[Folium Documentation](https://github.com/python-visualization/folium)\n",
    "\n",
    "Layering & Data Viz: [Ch 1.2 'What is the grammar of graphics?', ggplot2 book by Hadley Wickham](https://ggplot2-book.org/introduction.html)\n",
    "\n",
    "Read more about map tiles [here.](https://wiki.openstreetmap.org/wiki/Tiles)\n",
    "\n",
    "##### Try using these map tile sets:\n",
    "- 'stamen-terrain', 'stamen-watercolor' from [Stamen](http://maps.stamen.com)\n",
    "- 'carto-positron' and 'carto-darkmatter' from [Carto](https://carto.com/location-data-services/basemaps/)\n",
    "- 'white-bg'"
   ]
  },
  {
   "cell_type": "code",
   "execution_count": null,
   "metadata": {},
   "outputs": [],
   "source": []
  }
 ],
 "metadata": {
  "celltoolbar": "Slideshow",
  "kernelspec": {
   "display_name": "Python 3",
   "language": "python",
   "name": "python3"
  },
  "language_info": {
   "codemirror_mode": {
    "name": "ipython",
    "version": 3
   },
   "file_extension": ".py",
   "mimetype": "text/x-python",
   "name": "python",
   "nbconvert_exporter": "python",
   "pygments_lexer": "ipython3",
   "version": "3.6.8"
  }
 },
 "nbformat": 4,
 "nbformat_minor": 2
}
